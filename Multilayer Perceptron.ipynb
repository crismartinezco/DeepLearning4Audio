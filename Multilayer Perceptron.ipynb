{
 "cells": [
  {
   "cell_type": "markdown",
   "id": "791c0846",
   "metadata": {},
   "source": [
    "# MULTILAYER PERCEPTRON"
   ]
  },
  {
   "cell_type": "code",
   "execution_count": 1,
   "id": "c62ef532",
   "metadata": {},
   "outputs": [],
   "source": [
    "import numpy as np"
   ]
  },
  {
   "cell_type": "code",
   "execution_count": 34,
   "id": "4417a487",
   "metadata": {},
   "outputs": [
    {
     "name": "stdout",
     "output_type": "stream",
     "text": [
      "The network input is: [0.33544947 0.15082816 0.84166704]\n",
      "The network output is: [0.80409747 0.86583693]\n"
     ]
    }
   ],
   "source": [
    "class MLP:\n",
    "    \n",
    "    # init se debe escribir con DOBLE SLASH AL PISO\n",
    "    #3 in. layers, 3 and 5 hidden and 3 out\n",
    "    def __init__(self, num_inputs = 3, num_hidden = [3, 5], num_outputs = 2): \n",
    "        \n",
    "        self.num_inputs = num_inputs # these are attributes\n",
    "        self.num_hidden = num_hidden\n",
    "        self.num_outputs = num_outputs\n",
    "        \n",
    "        layers = [self.num_inputs] + self.num_hidden + [self.num_outputs] # list with num. of neurons in a layer\n",
    "        \n",
    "        # initiate random weights\n",
    "        # 1. iterates through all layers and creates a matrix for each pair of layers\n",
    "        # 2. Weight matrix. Rand creates random arrays with dif. dimensions\n",
    "        # 2. This is a 2D array, rows = current layer, columns = layer + 1\n",
    "        # 3. creates a list = weight matrices = # of layers - 1 Ex. 3 layers, 2 weight matrices.\n",
    "        \n",
    "        self.weights = [] # attribute called weights\n",
    "        for i in range(len(layers)-1): # 1.\n",
    "            w = np.random.rand(layers[i], layers[i+1]) # 2.\n",
    "            self.weights.append(w) # 3.\n",
    "        \n",
    "    \n",
    "    \n",
    "    def forward_propagate(self, inputs): # forward prop. ist net input + activation\n",
    "    \n",
    "        activations = inputs\n",
    "        \n",
    "        for w in self.weights:\n",
    "            \n",
    "            # calculate net input\n",
    "            net_inputs = np.dot(activations, w) # matrix multiplication betwe. activations and weights\n",
    "            \n",
    "            # calculate the activations\n",
    "            activations = self._sigmoid(net_inputs) # passing net_inputs to sigmoid function\n",
    "        \n",
    "        return activations\n",
    "    \n",
    "    def _sigmoid(self, x):\n",
    "        return 1 / (1 + np.exp(-x))\n",
    "    \n",
    "if __name__ == \"__main__\":\n",
    "    \n",
    "    #create an MLP\n",
    "    mlp = MLP() # we create the object, that has the same arguments used above\n",
    "    \n",
    "    # create some inputs\n",
    "    inputs = np.random.rand(mlp.num_inputs) # one dimensional array - 1D vector\n",
    "    \n",
    "    #perform forward prop\n",
    "    outputs = mlp.forward_propagate(inputs)\n",
    "    \n",
    "    #print results\n",
    "    print(\"The network input is: {}\".format(inputs))\n",
    "    print(\"The network output is: {}\".format(outputs))\n",
    "        \n",
    "        "
   ]
  },
  {
   "cell_type": "code",
   "execution_count": null,
   "id": "da809a67",
   "metadata": {},
   "outputs": [],
   "source": []
  },
  {
   "cell_type": "code",
   "execution_count": null,
   "id": "eba8cb3d",
   "metadata": {},
   "outputs": [],
   "source": []
  }
 ],
 "metadata": {
  "kernelspec": {
   "display_name": "Python 3 (ipykernel)",
   "language": "python",
   "name": "python3"
  },
  "language_info": {
   "codemirror_mode": {
    "name": "ipython",
    "version": 3
   },
   "file_extension": ".py",
   "mimetype": "text/x-python",
   "name": "python",
   "nbconvert_exporter": "python",
   "pygments_lexer": "ipython3",
   "version": "3.10.7"
  }
 },
 "nbformat": 4,
 "nbformat_minor": 5
}
