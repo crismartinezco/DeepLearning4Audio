{
 "cells": [
  {
   "cell_type": "markdown",
   "id": "b156582d",
   "metadata": {},
   "source": [
    "# # Neuron"
   ]
  },
  {
   "cell_type": "code",
   "execution_count": 1,
   "id": "3c214289",
   "metadata": {},
   "outputs": [],
   "source": [
    "import math"
   ]
  },
  {
   "cell_type": "code",
   "execution_count": 5,
   "id": "733888c9",
   "metadata": {},
   "outputs": [
    {
     "ename": "SyntaxError",
     "evalue": "incomplete input (1538569372.py, line 1)",
     "output_type": "error",
     "traceback": [
      "\u001b[0;36m  Cell \u001b[0;32mIn [5], line 1\u001b[0;36m\u001b[0m\n\u001b[0;31m    if __name__ == \"_main_\":\u001b[0m\n\u001b[0m                            ^\u001b[0m\n\u001b[0;31mSyntaxError\u001b[0m\u001b[0;31m:\u001b[0m incomplete input\n"
     ]
    }
   ],
   "source": [
    "#if __name__ == \"_main_\":"
   ]
  },
  {
   "cell_type": "code",
   "execution_count": 6,
   "id": "ef2cb710",
   "metadata": {},
   "outputs": [
    {
     "name": "stdout",
     "output_type": "stream",
     "text": [
      "0.610639233949222\n"
     ]
    }
   ],
   "source": [
    "def sigmoid(x):\n",
    "    y = 1.0 / (1 + math.exp(-x)) # formula of sigmoid activation function - math.exp is the exp function\n",
    "    return y\n",
    "\n",
    "def activate(inputs, weights):\n",
    "    # perform net input\n",
    "    h = 0\n",
    "    for x, w in zip(inputs, weights): # zip function unpacks two lists and goes through them\n",
    "        h += x*w \n",
    "    \n",
    "    # activation\n",
    "    return sigmoid(h)\n",
    "\n",
    "inputs = [.5, .3, .2]\n",
    "weights = [.4, .7, .2]\n",
    "output = activate(inputs, weights)\n",
    "print(output)"
   ]
  },
  {
   "cell_type": "code",
   "execution_count": null,
   "id": "56153e71",
   "metadata": {},
   "outputs": [],
   "source": []
  }
 ],
 "metadata": {
  "kernelspec": {
   "display_name": "Python 3 (ipykernel)",
   "language": "python",
   "name": "python3"
  },
  "language_info": {
   "codemirror_mode": {
    "name": "ipython",
    "version": 3
   },
   "file_extension": ".py",
   "mimetype": "text/x-python",
   "name": "python",
   "nbconvert_exporter": "python",
   "pygments_lexer": "ipython3",
   "version": "3.10.7"
  }
 },
 "nbformat": 4,
 "nbformat_minor": 5
}
